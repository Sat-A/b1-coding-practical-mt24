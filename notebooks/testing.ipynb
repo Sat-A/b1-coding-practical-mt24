{
 "cells": [
  {
   "cell_type": "code",
   "execution_count": 1,
   "metadata": {
    "vscode": {
     "languageId": "markdown"
    }
   },
   "outputs": [
    {
     "name": "stdout",
     "output_type": "stream",
     "text": [
      "c:\\Users\\thesa\\b1-coding-practical-mt24\\notebooks\n"
     ]
    }
   ],
   "source": [
    "import os\n",
    "print(os.getcwd())"
   ]
  },
  {
   "cell_type": "code",
   "execution_count": 15,
   "metadata": {
    "vscode": {
     "languageId": "markdown"
    }
   },
   "outputs": [
    {
     "name": "stdout",
     "output_type": "stream",
     "text": [
      "['c:\\\\Users\\\\thesa\\\\b1-coding-practical-mt24\\\\notebooks', 'C:\\\\Program Files (x86)\\\\Eclipse\\\\Sumo\\\\tools', 'c:\\\\Users\\\\thesa\\\\anaconda3\\\\python310.zip', 'c:\\\\Users\\\\thesa\\\\anaconda3\\\\DLLs', 'c:\\\\Users\\\\thesa\\\\anaconda3\\\\lib', 'c:\\\\Users\\\\thesa\\\\anaconda3', '', 'c:\\\\Users\\\\thesa\\\\anaconda3\\\\lib\\\\site-packages', 'c:\\\\Users\\\\thesa\\\\anaconda3\\\\lib\\\\site-packages\\\\win32', 'c:\\\\Users\\\\thesa\\\\anaconda3\\\\lib\\\\site-packages\\\\win32\\\\lib', 'c:\\\\Users\\\\thesa\\\\anaconda3\\\\lib\\\\site-packages\\\\Pythonwin', 'c:\\\\Users\\\\thesa\\\\b1-coding-practical-mt24\\\\notebooks', 'c:\\\\Users\\\\thesa\\\\b1-coding-practical-mt24', 'c:\\\\Users\\\\thesa\\\\b1-coding-practical-mt24']\n",
      "This shouldn't be tracked\n"
     ]
    }
   ],
   "source": [
    "import sys\n",
    "sys.path.append(os.path.abspath('..\\\\'))\n",
    "print(sys.path)\n",
    "print(\"This shouldn't be tracked\")"
   ]
  },
  {
   "cell_type": "code",
   "execution_count": 14,
   "metadata": {
    "vscode": {
     "languageId": "markdown"
    }
   },
   "outputs": [],
   "source": [
    "import uuv_mission.dynamic\n"
   ]
  }
 ],
 "metadata": {
  "kernelspec": {
   "display_name": "base",
   "language": "python",
   "name": "python3"
  },
  "language_info": {
   "codemirror_mode": {
    "name": "ipython",
    "version": 3
   },
   "file_extension": ".py",
   "mimetype": "text/x-python",
   "name": "python",
   "nbconvert_exporter": "python",
   "pygments_lexer": "ipython3",
   "version": "3.10.9"
  }
 },
 "nbformat": 4,
 "nbformat_minor": 2
}
